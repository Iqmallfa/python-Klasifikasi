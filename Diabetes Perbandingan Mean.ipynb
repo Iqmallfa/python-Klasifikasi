{
 "cells": [
  {
   "cell_type": "code",
   "execution_count": 70,
   "id": "0963cb2e",
   "metadata": {},
   "outputs": [],
   "source": [
    "import pandas as pd\n",
    "import numpy as np\n",
    "import matplotlib.pyplot as plt\n",
    "import seaborn as sns\n",
    "import plotly.graph_objs as go\n",
    "import plotly.offline as py\n",
    "import plotly.figure_factory as ff"
   ]
  },
  {
   "cell_type": "code",
   "execution_count": 71,
   "id": "6792d911",
   "metadata": {},
   "outputs": [],
   "source": [
    "from sklearn.model_selection import train_test_split\n",
    "from sklearn.preprocessing import StandardScaler  \n",
    "from sklearn.neighbors import KNeighborsClassifier \n",
    "from sklearn.metrics import classification_report\n",
    "from sklearn.naive_bayes import GaussianNB\n",
    "from sklearn.metrics import confusion_matrix\n",
    "from sklearn import metrics"
   ]
  },
  {
   "cell_type": "code",
   "execution_count": 72,
   "id": "8f540097",
   "metadata": {},
   "outputs": [],
   "source": [
    "Diabetes = pd.read_csv(\"diabetes.csv\")"
   ]
  },
  {
   "cell_type": "code",
   "execution_count": 73,
   "id": "9a8fbc69",
   "metadata": {},
   "outputs": [],
   "source": [
    "D = Diabetes[(Diabetes['Outcome'] != 0)]\n",
    "H = Diabetes[(Diabetes['Outcome'] == 0)]"
   ]
  },
  {
   "cell_type": "code",
   "execution_count": 74,
   "id": "11f6df64",
   "metadata": {},
   "outputs": [],
   "source": [
    "Diabetes[['Glucose','BloodPressure','SkinThickness','Insulin','BMI']] = Diabetes[['Glucose','BloodPressure','SkinThickness','Insulin','BMI']].replace(0,np.NaN)"
   ]
  },
  {
   "cell_type": "markdown",
   "id": "dcbff699",
   "metadata": {},
   "source": [
    "## Data Cleaning"
   ]
  },
  {
   "cell_type": "code",
   "execution_count": 75,
   "id": "dd2fb89d",
   "metadata": {},
   "outputs": [],
   "source": [
    "def mean_target(var):   \n",
    "    temp = Diabetes[Diabetes[var].notnull()]\n",
    "    temp = temp[[var, 'Outcome']].groupby(['Outcome'])[[var]].mean().reset_index()\n",
    "    return temp"
   ]
  },
  {
   "cell_type": "code",
   "execution_count": 76,
   "id": "141a4f3e",
   "metadata": {},
   "outputs": [],
   "source": [
    "def Distribusi(data_select, size_bin) :  \n",
    "    tmp1 = D[data_select]\n",
    "    tmp2 = H[data_select]\n",
    "    hist_data = [tmp1, tmp2]\n",
    "    \n",
    "    group_labels = ['Diabetes', 'Sehat']\n",
    "    colors = ['#0000ff', '#ff0000']\n",
    "\n",
    "    fig = ff.create_distplot(hist_data, group_labels, colors = colors, show_hist = True, bin_size = size_bin, curve_type='kde')\n",
    "    \n",
    "    fig['layout'].update(title = data_select)\n",
    "\n",
    "    py.iplot(fig, filename = 'Density plot')"
   ]
  },
  {
   "cell_type": "code",
   "execution_count": 77,
   "id": "277eb69d",
   "metadata": {},
   "outputs": [
    {
     "data": {
      "text/html": [
       "<div>\n",
       "<style scoped>\n",
       "    .dataframe tbody tr th:only-of-type {\n",
       "        vertical-align: middle;\n",
       "    }\n",
       "\n",
       "    .dataframe tbody tr th {\n",
       "        vertical-align: top;\n",
       "    }\n",
       "\n",
       "    .dataframe thead th {\n",
       "        text-align: right;\n",
       "    }\n",
       "</style>\n",
       "<table border=\"1\" class=\"dataframe\">\n",
       "  <thead>\n",
       "    <tr style=\"text-align: right;\">\n",
       "      <th></th>\n",
       "      <th>Outcome</th>\n",
       "      <th>Insulin</th>\n",
       "    </tr>\n",
       "  </thead>\n",
       "  <tbody>\n",
       "    <tr>\n",
       "      <th>0</th>\n",
       "      <td>0</td>\n",
       "      <td>130.287879</td>\n",
       "    </tr>\n",
       "    <tr>\n",
       "      <th>1</th>\n",
       "      <td>1</td>\n",
       "      <td>206.846154</td>\n",
       "    </tr>\n",
       "  </tbody>\n",
       "</table>\n",
       "</div>"
      ],
      "text/plain": [
       "   Outcome     Insulin\n",
       "0        0  130.287879\n",
       "1        1  206.846154"
      ]
     },
     "execution_count": 77,
     "metadata": {},
     "output_type": "execute_result"
    }
   ],
   "source": [
    "mean_target('Insulin')"
   ]
  },
  {
   "cell_type": "code",
   "execution_count": 78,
   "id": "68a51ee5",
   "metadata": {},
   "outputs": [],
   "source": [
    "Diabetes.loc[(Diabetes['Outcome'] == 0 ) & (Diabetes['Insulin'].isnull()), 'Insulin'] = 68.792000\n",
    "Diabetes.loc[(Diabetes['Outcome'] == 1 ) & (Diabetes['Insulin'].isnull()), 'Insulin'] = 100.335821"
   ]
  },
  {
   "cell_type": "code",
   "execution_count": 79,
   "id": "b62924ab",
   "metadata": {},
   "outputs": [
    {
     "data": {
      "text/html": [
       "<div>\n",
       "<style scoped>\n",
       "    .dataframe tbody tr th:only-of-type {\n",
       "        vertical-align: middle;\n",
       "    }\n",
       "\n",
       "    .dataframe tbody tr th {\n",
       "        vertical-align: top;\n",
       "    }\n",
       "\n",
       "    .dataframe thead th {\n",
       "        text-align: right;\n",
       "    }\n",
       "</style>\n",
       "<table border=\"1\" class=\"dataframe\">\n",
       "  <thead>\n",
       "    <tr style=\"text-align: right;\">\n",
       "      <th></th>\n",
       "      <th>Outcome</th>\n",
       "      <th>SkinThickness</th>\n",
       "    </tr>\n",
       "  </thead>\n",
       "  <tbody>\n",
       "    <tr>\n",
       "      <th>0</th>\n",
       "      <td>0</td>\n",
       "      <td>27.235457</td>\n",
       "    </tr>\n",
       "    <tr>\n",
       "      <th>1</th>\n",
       "      <td>1</td>\n",
       "      <td>33.000000</td>\n",
       "    </tr>\n",
       "  </tbody>\n",
       "</table>\n",
       "</div>"
      ],
      "text/plain": [
       "   Outcome  SkinThickness\n",
       "0        0      27.235457\n",
       "1        1      33.000000"
      ]
     },
     "execution_count": 79,
     "metadata": {},
     "output_type": "execute_result"
    }
   ],
   "source": [
    "mean_target('SkinThickness')"
   ]
  },
  {
   "cell_type": "code",
   "execution_count": 80,
   "id": "42934fc3",
   "metadata": {},
   "outputs": [],
   "source": [
    "Diabetes.loc[(Diabetes['Outcome'] == 0 ) & (Diabetes['SkinThickness'].isnull()), 'SkinThickness'] = 19.664000\n",
    "Diabetes.loc[(Diabetes['Outcome'] == 1 ) & (Diabetes['SkinThickness'].isnull()), 'SkinThickness'] = 22.164179"
   ]
  },
  {
   "cell_type": "code",
   "execution_count": 81,
   "id": "7bef9251",
   "metadata": {},
   "outputs": [
    {
     "data": {
      "text/html": [
       "<div>\n",
       "<style scoped>\n",
       "    .dataframe tbody tr th:only-of-type {\n",
       "        vertical-align: middle;\n",
       "    }\n",
       "\n",
       "    .dataframe tbody tr th {\n",
       "        vertical-align: top;\n",
       "    }\n",
       "\n",
       "    .dataframe thead th {\n",
       "        text-align: right;\n",
       "    }\n",
       "</style>\n",
       "<table border=\"1\" class=\"dataframe\">\n",
       "  <thead>\n",
       "    <tr style=\"text-align: right;\">\n",
       "      <th></th>\n",
       "      <th>Outcome</th>\n",
       "      <th>BloodPressure</th>\n",
       "    </tr>\n",
       "  </thead>\n",
       "  <tbody>\n",
       "    <tr>\n",
       "      <th>0</th>\n",
       "      <td>0</td>\n",
       "      <td>70.877339</td>\n",
       "    </tr>\n",
       "    <tr>\n",
       "      <th>1</th>\n",
       "      <td>1</td>\n",
       "      <td>75.321429</td>\n",
       "    </tr>\n",
       "  </tbody>\n",
       "</table>\n",
       "</div>"
      ],
      "text/plain": [
       "   Outcome  BloodPressure\n",
       "0        0      70.877339\n",
       "1        1      75.321429"
      ]
     },
     "execution_count": 81,
     "metadata": {},
     "output_type": "execute_result"
    }
   ],
   "source": [
    "mean_target('BloodPressure')"
   ]
  },
  {
   "cell_type": "code",
   "execution_count": 82,
   "id": "d32b407a",
   "metadata": {},
   "outputs": [],
   "source": [
    "Diabetes.loc[(Diabetes['Outcome'] == 0 ) & (Diabetes['BloodPressure'].isnull()), 'BloodPressure'] = 68.184000\n",
    "Diabetes.loc[(Diabetes['Outcome'] == 1 ) & (Diabetes['BloodPressure'].isnull()), 'BloodPressure'] = 70.824627"
   ]
  },
  {
   "cell_type": "code",
   "execution_count": 83,
   "id": "edb5f635",
   "metadata": {},
   "outputs": [
    {
     "data": {
      "text/html": [
       "<div>\n",
       "<style scoped>\n",
       "    .dataframe tbody tr th:only-of-type {\n",
       "        vertical-align: middle;\n",
       "    }\n",
       "\n",
       "    .dataframe tbody tr th {\n",
       "        vertical-align: top;\n",
       "    }\n",
       "\n",
       "    .dataframe thead th {\n",
       "        text-align: right;\n",
       "    }\n",
       "</style>\n",
       "<table border=\"1\" class=\"dataframe\">\n",
       "  <thead>\n",
       "    <tr style=\"text-align: right;\">\n",
       "      <th></th>\n",
       "      <th>Outcome</th>\n",
       "      <th>Glucose</th>\n",
       "    </tr>\n",
       "  </thead>\n",
       "  <tbody>\n",
       "    <tr>\n",
       "      <th>0</th>\n",
       "      <td>0</td>\n",
       "      <td>110.643863</td>\n",
       "    </tr>\n",
       "    <tr>\n",
       "      <th>1</th>\n",
       "      <td>1</td>\n",
       "      <td>142.319549</td>\n",
       "    </tr>\n",
       "  </tbody>\n",
       "</table>\n",
       "</div>"
      ],
      "text/plain": [
       "   Outcome     Glucose\n",
       "0        0  110.643863\n",
       "1        1  142.319549"
      ]
     },
     "execution_count": 83,
     "metadata": {},
     "output_type": "execute_result"
    }
   ],
   "source": [
    "mean_target('Glucose')"
   ]
  },
  {
   "cell_type": "code",
   "execution_count": 84,
   "id": "ab9efff9",
   "metadata": {},
   "outputs": [],
   "source": [
    "Diabetes.loc[(Diabetes['Outcome'] == 0 ) & (Diabetes['Glucose'].isnull()), 'Glucose'] = 109.980000\n",
    "Diabetes.loc[(Diabetes['Outcome'] == 1 ) & (Diabetes['Glucose'].isnull()), 'Glucose'] = 141.257463"
   ]
  },
  {
   "cell_type": "code",
   "execution_count": 85,
   "id": "2bcaac56",
   "metadata": {},
   "outputs": [
    {
     "data": {
      "text/html": [
       "<div>\n",
       "<style scoped>\n",
       "    .dataframe tbody tr th:only-of-type {\n",
       "        vertical-align: middle;\n",
       "    }\n",
       "\n",
       "    .dataframe tbody tr th {\n",
       "        vertical-align: top;\n",
       "    }\n",
       "\n",
       "    .dataframe thead th {\n",
       "        text-align: right;\n",
       "    }\n",
       "</style>\n",
       "<table border=\"1\" class=\"dataframe\">\n",
       "  <thead>\n",
       "    <tr style=\"text-align: right;\">\n",
       "      <th></th>\n",
       "      <th>Outcome</th>\n",
       "      <th>BMI</th>\n",
       "    </tr>\n",
       "  </thead>\n",
       "  <tbody>\n",
       "    <tr>\n",
       "      <th>0</th>\n",
       "      <td>0</td>\n",
       "      <td>30.859674</td>\n",
       "    </tr>\n",
       "    <tr>\n",
       "      <th>1</th>\n",
       "      <td>1</td>\n",
       "      <td>35.406767</td>\n",
       "    </tr>\n",
       "  </tbody>\n",
       "</table>\n",
       "</div>"
      ],
      "text/plain": [
       "   Outcome        BMI\n",
       "0        0  30.859674\n",
       "1        1  35.406767"
      ]
     },
     "execution_count": 85,
     "metadata": {},
     "output_type": "execute_result"
    }
   ],
   "source": [
    "mean_target('BMI')"
   ]
  },
  {
   "cell_type": "code",
   "execution_count": 86,
   "id": "2ec45f1c",
   "metadata": {},
   "outputs": [],
   "source": [
    "Diabetes.loc[(Diabetes['Outcome'] == 0 ) & (Diabetes['BMI'].isnull()), 'BMI'] = 30.304200\n",
    "Diabetes.loc[(Diabetes['Outcome'] == 1 ) & (Diabetes['BMI'].isnull()), 'BMI'] = 35.142537"
   ]
  },
  {
   "cell_type": "code",
   "execution_count": 87,
   "id": "4ece5c57",
   "metadata": {},
   "outputs": [],
   "source": [
    "x = Diabetes.drop([\"Outcome\"], axis = 1)\n",
    "y = Diabetes['Outcome']\n",
    "x_train, x_test, y_train, y_test = train_test_split(x, y, test_size = 0.30)"
   ]
  },
  {
   "cell_type": "code",
   "execution_count": 88,
   "id": "c0712e48",
   "metadata": {},
   "outputs": [],
   "source": [
    "scaler = StandardScaler()  \n",
    "scaler.fit(x_train)\n",
    "x_train = scaler.transform(x_train)  \n",
    "x_test = scaler.transform(x_test)"
   ]
  },
  {
   "cell_type": "code",
   "execution_count": 89,
   "id": "834cea9a",
   "metadata": {},
   "outputs": [
    {
     "data": {
      "text/html": [
       "<div>\n",
       "<style scoped>\n",
       "    .dataframe tbody tr th:only-of-type {\n",
       "        vertical-align: middle;\n",
       "    }\n",
       "\n",
       "    .dataframe tbody tr th {\n",
       "        vertical-align: top;\n",
       "    }\n",
       "\n",
       "    .dataframe thead th {\n",
       "        text-align: right;\n",
       "    }\n",
       "</style>\n",
       "<table border=\"1\" class=\"dataframe\">\n",
       "  <thead>\n",
       "    <tr style=\"text-align: right;\">\n",
       "      <th>Predicted</th>\n",
       "      <th>0</th>\n",
       "      <th>1</th>\n",
       "      <th>All</th>\n",
       "    </tr>\n",
       "    <tr>\n",
       "      <th>True</th>\n",
       "      <th></th>\n",
       "      <th></th>\n",
       "      <th></th>\n",
       "    </tr>\n",
       "  </thead>\n",
       "  <tbody>\n",
       "    <tr>\n",
       "      <th>0</th>\n",
       "      <td>136</td>\n",
       "      <td>11</td>\n",
       "      <td>147</td>\n",
       "    </tr>\n",
       "    <tr>\n",
       "      <th>1</th>\n",
       "      <td>25</td>\n",
       "      <td>59</td>\n",
       "      <td>84</td>\n",
       "    </tr>\n",
       "    <tr>\n",
       "      <th>All</th>\n",
       "      <td>161</td>\n",
       "      <td>70</td>\n",
       "      <td>231</td>\n",
       "    </tr>\n",
       "  </tbody>\n",
       "</table>\n",
       "</div>"
      ],
      "text/plain": [
       "Predicted    0   1  All\n",
       "True                   \n",
       "0          136  11  147\n",
       "1           25  59   84\n",
       "All        161  70  231"
      ]
     },
     "execution_count": 89,
     "metadata": {},
     "output_type": "execute_result"
    }
   ],
   "source": [
    "prediksi = classifier.predict(x_test)\n",
    "confusion_matrix(y_test,prediksi)\n",
    "pd.crosstab(y_test, prediksi, rownames=['True'], colnames=['Predicted'], margins=True)"
   ]
  },
  {
   "cell_type": "code",
   "execution_count": 90,
   "id": "7909e900",
   "metadata": {},
   "outputs": [
    {
     "name": "stdout",
     "output_type": "stream",
     "text": [
      "              precision    recall  f1-score   support\n",
      "\n",
      "           0       0.77      0.82      0.79       147\n",
      "           1       0.64      0.57      0.60        84\n",
      "\n",
      "    accuracy                           0.73       231\n",
      "   macro avg       0.70      0.69      0.70       231\n",
      "weighted avg       0.72      0.73      0.72       231\n",
      "\n"
     ]
    }
   ],
   "source": [
    "classifier = KNeighborsClassifier(n_neighbors=1) \n",
    "classifier.fit(x_train, y_train)\n",
    "prediksi = classifier.predict(x_test)\n",
    "\n",
    "print(classification_report(y_test, prediksi))"
   ]
  },
  {
   "cell_type": "code",
   "execution_count": 91,
   "id": "3d79b04b",
   "metadata": {},
   "outputs": [
    {
     "data": {
      "text/plain": [
       "Text(0.5, 15.0, 'Prediksi')"
      ]
     },
     "execution_count": 91,
     "metadata": {},
     "output_type": "execute_result"
    },
    {
     "data": {
      "image/png": "[encoded data removed]",
      "text/plain": [
       "<Figure size 432x288 with 2 Axes>"
      ]
     },
     "metadata": {
      "needs_background": "light"
     },
     "output_type": "display_data"
    }
   ],
   "source": [
    "cnf_matrix = metrics.confusion_matrix(y_test, prediksi)\n",
    "p = sns.heatmap(pd.DataFrame(cnf_matrix), annot=True, cmap=\"YlGnBu\" ,fmt='g')\n",
    "plt.title('Confusion matrix', y=1.1)\n",
    "plt.ylabel('Aktual')\n",
    "plt.xlabel('Prediksi')"
   ]
  },
  {
   "cell_type": "code",
   "execution_count": 92,
   "id": "1739cb8a",
   "metadata": {},
   "outputs": [
    {
     "name": "stdout",
     "output_type": "stream",
     "text": [
      "              precision    recall  f1-score   support\n",
      "\n",
      "           0       0.72      0.93      0.82       147\n",
      "           1       0.76      0.38      0.51        84\n",
      "\n",
      "    accuracy                           0.73       231\n",
      "   macro avg       0.74      0.66      0.66       231\n",
      "weighted avg       0.74      0.73      0.70       231\n",
      "\n"
     ]
    }
   ],
   "source": [
    "classifier = KNeighborsClassifier(n_neighbors=2) \n",
    "classifier.fit(x_train, y_train)\n",
    "prediksi = classifier.predict(x_test)\n",
    "\n",
    "print(classification_report(y_test, prediksi))"
   ]
  },
  {
   "cell_type": "code",
   "execution_count": 93,
   "id": "3a741bab",
   "metadata": {},
   "outputs": [
    {
     "name": "stdout",
     "output_type": "stream",
     "text": [
      "              precision    recall  f1-score   support\n",
      "\n",
      "           0       0.80      0.88      0.83       147\n",
      "           1       0.74      0.61      0.67        84\n",
      "\n",
      "    accuracy                           0.78       231\n",
      "   macro avg       0.77      0.74      0.75       231\n",
      "weighted avg       0.78      0.78      0.77       231\n",
      "\n"
     ]
    }
   ],
   "source": [
    "classifier = KNeighborsClassifier(n_neighbors=3) \n",
    "classifier.fit(x_train, y_train)\n",
    "prediksi = classifier.predict(x_test)\n",
    "\n",
    "print(classification_report(y_test, prediksi))"
   ]
  },
  {
   "cell_type": "code",
   "execution_count": 94,
   "id": "13925828",
   "metadata": {},
   "outputs": [
    {
     "name": "stdout",
     "output_type": "stream",
     "text": [
      "              precision    recall  f1-score   support\n",
      "\n",
      "           0       0.74      0.93      0.83       147\n",
      "           1       0.79      0.44      0.56        84\n",
      "\n",
      "    accuracy                           0.75       231\n",
      "   macro avg       0.77      0.69      0.70       231\n",
      "weighted avg       0.76      0.75      0.73       231\n",
      "\n"
     ]
    }
   ],
   "source": [
    "classifier = KNeighborsClassifier(n_neighbors=4) \n",
    "classifier.fit(x_train, y_train)\n",
    "prediksi = classifier.predict(x_test)\n",
    "\n",
    "print(classification_report(y_test, prediksi))"
   ]
  },
  {
   "cell_type": "code",
   "execution_count": 95,
   "id": "ef04e1f6",
   "metadata": {},
   "outputs": [
    {
     "name": "stdout",
     "output_type": "stream",
     "text": [
      "              precision    recall  f1-score   support\n",
      "\n",
      "           0       0.80      0.90      0.85       147\n",
      "           1       0.78      0.62      0.69        84\n",
      "\n",
      "    accuracy                           0.80       231\n",
      "   macro avg       0.79      0.76      0.77       231\n",
      "weighted avg       0.79      0.80      0.79       231\n",
      "\n"
     ]
    }
   ],
   "source": [
    "classifier = KNeighborsClassifier(n_neighbors=5) \n",
    "classifier.fit(x_train, y_train)\n",
    "prediksi = classifier.predict(x_test)\n",
    "\n",
    "print(classification_report(y_test, prediksi))"
   ]
  },
  {
   "cell_type": "code",
   "execution_count": 96,
   "id": "ef37466a",
   "metadata": {},
   "outputs": [
    {
     "name": "stdout",
     "output_type": "stream",
     "text": [
      "              precision    recall  f1-score   support\n",
      "\n",
      "           0       0.76      0.93      0.84       147\n",
      "           1       0.80      0.49      0.61        84\n",
      "\n",
      "    accuracy                           0.77       231\n",
      "   macro avg       0.78      0.71      0.72       231\n",
      "weighted avg       0.78      0.77      0.75       231\n",
      "\n"
     ]
    }
   ],
   "source": [
    "classifier = KNeighborsClassifier(n_neighbors=6) \n",
    "classifier.fit(x_train, y_train)\n",
    "prediksi = classifier.predict(x_test)\n",
    "\n",
    "print(classification_report(y_test, prediksi))"
   ]
  },
  {
   "cell_type": "code",
   "execution_count": 97,
   "id": "bf6505ac",
   "metadata": {},
   "outputs": [
    {
     "name": "stdout",
     "output_type": "stream",
     "text": [
      "              precision    recall  f1-score   support\n",
      "\n",
      "           0       0.80      0.88      0.84       147\n",
      "           1       0.75      0.61      0.67        84\n",
      "\n",
      "    accuracy                           0.78       231\n",
      "   macro avg       0.77      0.75      0.75       231\n",
      "weighted avg       0.78      0.78      0.78       231\n",
      "\n"
     ]
    }
   ],
   "source": [
    "classifier = KNeighborsClassifier(n_neighbors=7) \n",
    "classifier.fit(x_train, y_train)\n",
    "prediksi = classifier.predict(x_test)\n",
    "\n",
    "print(classification_report(y_test, prediksi))"
   ]
  },
  {
   "cell_type": "code",
   "execution_count": 98,
   "id": "07308f58",
   "metadata": {},
   "outputs": [
    {
     "name": "stdout",
     "output_type": "stream",
     "text": [
      "              precision    recall  f1-score   support\n",
      "\n",
      "           0       0.76      0.93      0.84       147\n",
      "           1       0.80      0.48      0.60        84\n",
      "\n",
      "    accuracy                           0.77       231\n",
      "   macro avg       0.78      0.70      0.72       231\n",
      "weighted avg       0.77      0.77      0.75       231\n",
      "\n"
     ]
    }
   ],
   "source": [
    "classifier = KNeighborsClassifier(n_neighbors=8) \n",
    "classifier.fit(x_train, y_train)\n",
    "prediksi = classifier.predict(x_test)\n",
    "\n",
    "print(classification_report(y_test, prediksi))"
   ]
  },
  {
   "cell_type": "code",
   "execution_count": 99,
   "id": "f5e1ebf1",
   "metadata": {},
   "outputs": [
    {
     "name": "stdout",
     "output_type": "stream",
     "text": [
      "              precision    recall  f1-score   support\n",
      "\n",
      "           0       0.79      0.90      0.84       147\n",
      "           1       0.76      0.57      0.65        84\n",
      "\n",
      "    accuracy                           0.78       231\n",
      "   macro avg       0.77      0.73      0.75       231\n",
      "weighted avg       0.78      0.78      0.77       231\n",
      "\n"
     ]
    }
   ],
   "source": [
    "classifier = KNeighborsClassifier(n_neighbors=9) \n",
    "classifier.fit(x_train, y_train)\n",
    "prediksi = classifier.predict(x_test)\n",
    "\n",
    "print(classification_report(y_test, prediksi))"
   ]
  },
  {
   "cell_type": "code",
   "execution_count": 100,
   "id": "ec3e426b",
   "metadata": {},
   "outputs": [],
   "source": [
    "nbModel = GaussianNB()"
   ]
  },
  {
   "cell_type": "code",
   "execution_count": 101,
   "id": "d68a923b",
   "metadata": {},
   "outputs": [],
   "source": [
    "nbModel.fit(x_train, y_train)\n",
    "nb_y_pred = nbModel.predict(x_test)"
   ]
  },
  {
   "cell_type": "code",
   "execution_count": 102,
   "id": "ecdb695d",
   "metadata": {},
   "outputs": [
    {
     "name": "stdout",
     "output_type": "stream",
     "text": [
      "              precision    recall  f1-score   support\n",
      "\n",
      "           0       0.81      0.88      0.85       147\n",
      "           1       0.76      0.64      0.70        84\n",
      "\n",
      "    accuracy                           0.80       231\n",
      "   macro avg       0.79      0.76      0.77       231\n",
      "weighted avg       0.79      0.80      0.79       231\n",
      "\n"
     ]
    }
   ],
   "source": [
    "print(classification_report(y_test, nb_y_pred))"
   ]
  },
  {
   "cell_type": "code",
   "execution_count": 103,
   "id": "f8ae6938",
   "metadata": {},
   "outputs": [
    {
     "data": {
      "text/plain": [
       "Text(0.5, 15.0, 'Prediksi')"
      ]
     },
     "execution_count": 103,
     "metadata": {},
     "output_type": "execute_result"
    },
    {
     "data": {
      "image/png": "[encoded data removed]",
      "text/plain": [
       "<Figure size 432x288 with 2 Axes>"
      ]
     },
     "metadata": {
      "needs_background": "light"
     },
     "output_type": "display_data"
    }
   ],
   "source": [
    "cnf_matrix = metrics.confusion_matrix(y_test, nb_y_pred)\n",
    "p = sns.heatmap(pd.DataFrame(cnf_matrix), annot=True, cmap=\"YlGnBu\" ,fmt='g')\n",
    "plt.title('Confusion matrix', y=1.1)\n",
    "plt.ylabel('Aktual')\n",
    "plt.xlabel('Prediksi')"
   ]
  },
  {
   "cell_type": "code",
   "execution_count": null,
   "id": "b60cc04e",
   "metadata": {},
   "outputs": [],
   "source": []
  }
 ],
 "metadata": {
  "kernelspec": {
   "display_name": "Python 3 (ipykernel)",
   "language": "python",
   "name": "python3"
  },
  "language_info": {
   "codemirror_mode": {
    "name": "ipython",
    "version": 3
   },
   "file_extension": ".py",
   "mimetype": "text/x-python",
   "name": "python",
   "nbconvert_exporter": "python",
   "pygments_lexer": "ipython3",
   "version": "3.9.7"
  }
 },
 "nbformat": 4,
 "nbformat_minor": 5
}
